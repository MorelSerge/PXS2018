{
 "cells": [
  {
   "cell_type": "code",
   "execution_count": 1,
   "metadata": {},
   "outputs": [
    {
     "name": "stderr",
     "output_type": "stream",
     "text": [
      "C:\\ProgramData\\Anaconda3\\lib\\site-packages\\h5py\\__init__.py:36: FutureWarning: Conversion of the second argument of issubdtype from `float` to `np.floating` is deprecated. In future, it will be treated as `np.float64 == np.dtype(float).type`.\n",
      "  from ._conv import register_converters as _register_converters\n",
      "Using TensorFlow backend.\n"
     ]
    }
   ],
   "source": [
    "from keras_fcn import FCN\n",
    "import numpy as np\n",
    "np.random.seed(1337)\n",
    "from keras.models import Sequential\n",
    "from keras.layers import Dense, Dropout, Activation, Flatten, Conv2D, MaxPooling2D\n",
    "from keras.utils import np_utils\n",
    "import matplotlib.pyplot as plt\n",
    "import pickle\n",
    "import plotting"
   ]
  },
  {
   "cell_type": "code",
   "execution_count": 47,
   "metadata": {},
   "outputs": [
    {
     "name": "stdout",
     "output_type": "stream",
     "text": [
      "(2650, 512, 512, 3)\n",
      "(2650, 512, 512)\n"
     ]
    }
   ],
   "source": [
    "image_dim = 512\n",
    "\n",
    "# raw_data = pickle.load(open('data-lausanne-{}.p'.format(image_dim), 'rb'))\n",
    "raw_data = pickle.load(open('images-lausanne-zoom-17.p', 'rb'))\n",
    "X = np.array(raw_data['sat'])\n",
    "y = np.array(raw_data['style']).astype('int')\n",
    "# y = y.reshape(y.shape[0], image_dim**2)\n",
    "\n",
    "# style image to fraction of image that are trees\n",
    "# old_y = y\n",
    "# t = []\n",
    "# for yi in old_y:\n",
    "#     ws = np.sum(yi)\n",
    "#     ts = yi.size\n",
    "#     t.append(ws / ts)\n",
    "# old_y = y\n",
    "# y = np.array(t)\n",
    "\n",
    "print(X.shape)\n",
    "print(y.shape)"
   ]
  },
  {
   "cell_type": "code",
   "execution_count": 48,
   "metadata": {},
   "outputs": [],
   "source": [
    "perm = np.random.permutation(len(X))\n",
    "X = X[perm]\n",
    "y = y[perm]\n",
    "y = np.eye(2)[y]\n",
    "test_set_size = 0.15\n",
    "split_index = int(len(X) * (1 - test_set_size))\n",
    "X_train = X[:split_index]\n",
    "y_train = y[:split_index]\n",
    "X_test = X[split_index:]\n",
    "y_test = y[split_index:]"
   ]
  },
  {
   "cell_type": "code",
   "execution_count": null,
   "metadata": {},
   "outputs": [
    {
     "name": "stdout",
     "output_type": "stream",
     "text": [
      "(2252, 512, 512, 3)\n",
      "(2252, 512, 512, 2)\n",
      "Train on 2252 samples, validate on 398 samples\n",
      "Epoch 1/50\n",
      "  64/2252 [..............................] - ETA: 7:19:37 - loss: 3.1344 - acc: 0.7687"
     ]
    }
   ],
   "source": [
    "print(X_train.shape)\n",
    "print(y_train.shape)\n",
    "fcn_vgg16 = FCN(input_shape=(512, 512, 3), classes=2,  \n",
    "                weights=None, trainable_encoder=True)\n",
    "fcn_vgg16.compile(optimizer='rmsprop',\n",
    "                  loss='categorical_crossentropy',\n",
    "                  metrics=['accuracy'])\n",
    "fcn_vgg16.fit(X_train, y_train, \n",
    "                     batch_size=32,\n",
    "                     epochs = 50,\n",
    "                     validation_data=(X_test, Y_test))"
   ]
  },
  {
   "cell_type": "code",
   "execution_count": null,
   "metadata": {},
   "outputs": [],
   "source": []
  }
 ],
 "metadata": {
  "kernelspec": {
   "display_name": "Python 3",
   "language": "python",
   "name": "python3"
  },
  "language_info": {
   "codemirror_mode": {
    "name": "ipython",
    "version": 3
   },
   "file_extension": ".py",
   "mimetype": "text/x-python",
   "name": "python",
   "nbconvert_exporter": "python",
   "pygments_lexer": "ipython3",
   "version": "3.6.4"
  }
 },
 "nbformat": 4,
 "nbformat_minor": 2
}

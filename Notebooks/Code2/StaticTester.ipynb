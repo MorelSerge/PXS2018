{
 "cells": [
  {
   "cell_type": "code",
   "execution_count": 3,
   "metadata": {},
   "outputs": [],
   "source": [
    "# from mapbox import Static\n",
    "import json\n",
    "import numpy\n",
    "from PIL import Image\n",
    "from PIL import ImageDraw\n",
    "import numpy as np\n",
    "from shapely.geometry import shape, Polygon\n",
    "import matplotlib.pyplot as plt\n",
    "import math"
   ]
  },
  {
   "cell_type": "code",
   "execution_count": 15,
   "metadata": {},
   "outputs": [],
   "source": [
    "with open('Lausanne.geojson') as json_data:\n",
    "    vaud = json.load(json_data);"
   ]
  },
  {
   "cell_type": "code",
   "execution_count": 15,
   "metadata": {},
   "outputs": [],
   "source": [
    "\n",
    "\n",
    "service = Static(access_token=\"pk.eyJ1Ijoidmx1ZiIsImEiOiJjamVpbDMxamEwYmI3MnFuNW8ybnI0NHdyIn0.dxuL9WvARgL4FFbSt-KUqA\")\n",
    "\n",
    "response = service.image('mapbox.light', lon=-61.7, lat=12.1, z=12)\n",
    "\n",
    "with open('map.png', 'wb') as output:\n",
    "    output.write(response.content)"
   ]
  },
  {
   "cell_type": "code",
   "execution_count": 5,
   "metadata": {},
   "outputs": [],
   "source": [
    "def polygon_union(features, start=None):\n",
    "    polygon = start\n",
    "    for feature in features:\n",
    "        if polygon is None:\n",
    "            polygon = shape(feature['geometry'])\n",
    "        else:\n",
    "            polygon = polygon.union(shape(feature['geometry']))\n",
    "    return polygon"
   ]
  },
  {
   "cell_type": "code",
   "execution_count": 16,
   "metadata": {},
   "outputs": [
    {
     "data": {
      "image/png": "[encoded data removed]",
      "text/plain": [
       "<Figure size 432x288 with 1 Axes>"
      ]
     },
     "metadata": {},
     "output_type": "display_data"
    }
   ],
   "source": [
    "polygon_data = []\n",
    "union_features = polygon_union(vaud['features'])\n",
    "if isinstance(union_features, Polygon):\n",
    "    polygons = [union_features]\n",
    "else:\n",
    "    polygons = list(union_features)\n",
    "    \n",
    "for p in polygons:\n",
    "    c_x, c_y = p.exterior.xy\n",
    "    plt.plot(c_x, c_y)"
   ]
  },
  {
   "cell_type": "code",
   "execution_count": 43,
   "metadata": {},
   "outputs": [
    {
     "name": "stdout",
     "output_type": "stream",
     "text": [
      "3.193148653869907\n"
     ]
    }
   ],
   "source": [
    "rand_tile_json = json.loads('{ \"type\": \"Polygon\", \"coordinates\": [ [ [ 6.66046142578125, 46.602280100138657 ], [ 6.660804748535156, 46.602280100138657 ], [ 6.660804748535156, 46.60204421728951 ], [ 6.66046142578125, 46.60204421728951], [ 6.66046142578125, 46.602280100138657 ] ] ] }')\n",
    "rand_tile = shape(rand_tile_json)\n",
    "print(centroid_x)"
   ]
  },
  {
   "cell_type": "code",
   "execution_count": 51,
   "metadata": {},
   "outputs": [
    {
     "name": "stdout",
     "output_type": "stream",
     "text": [
      "276.0\n",
      "500.0\n"
     ]
    }
   ],
   "source": [
    "minx = np.inf\n",
    "miny = np.inf\n",
    "maxx = 0\n",
    "maxy = 0\n",
    "all_ys = []\n",
    "data_points = {}\n",
    "for i, p in enumerate(polygons):\n",
    "    x, y = p.exterior.xy\n",
    "    all_ys.extend(y)\n",
    "    data_points[i] = {}\n",
    "    data_points[i]['x'] = np.array(x)\n",
    "    data_points[i]['y'] = np.array(y)\n",
    "    cminx = data_points[i]['x'].min()\n",
    "    cminy = data_points[i]['y'].min()\n",
    "    cmaxx = data_points[i]['x'].max()\n",
    "    cmaxy = data_points[i]['y'].max()\n",
    "    if (cminx < minx): minx = cminx\n",
    "    if (cminy < miny): miny = cminy\n",
    "    if (cmaxx > maxx): maxx = cmaxx\n",
    "    if (cmaxy > maxy): maxy = cmaxy\n",
    "averagey = np.mean(all_ys)\n",
    "xrange = maxx - minx # longitude\n",
    "yrange = maxy - miny # latitude\n",
    "\n",
    "xrange *= 111.320 / 110.574 * math.cos(math.radians(averagey))\n",
    "for i in list(data_points.keys()):\n",
    "    data_points[i]['x'] *= 111.320 / 110.574 * math.cos(math.radians(averagey))\n",
    "    cminx = data_points[i]['x'].min()\n",
    "    if (cminx < minx): minx = cminx\n",
    "    \n",
    "aspect_ratio = xrange / yrange\n",
    "padding = 10\n",
    "img_height = 512\n",
    "drawable_height = img_height - 2 * padding\n",
    "drawable_width = int(round(aspect_ratio * drawable_height))\n",
    "img_width = drawable_width + 2 * padding\n",
    "\n",
    "poly = Image.new('RGBA', (img_width, img_height))\n",
    "back = Image.new('RGBA', (img_width, img_height), (255,255,255,0))\n",
    "drawer = ImageDraw.Draw(poly)\n",
    "drawer2 = ImageDraw.Draw(back)\n",
    "for i in list(data_points.keys()):\n",
    "    x = data_points[i]['x']\n",
    "    y = data_points[i]['y']\n",
    "    x = x - minx\n",
    "    y = y - miny\n",
    "    x /= xrange\n",
    "    y /= yrange\n",
    "    x = np.rint(x * drawable_width) + padding\n",
    "    y = np.rint(y * drawable_height) + padding\n",
    "    drawer.polygon(list(zip(x, y)), fill=(255,255,255,0),outline=(25,163,1,255))\n",
    "    \n",
    "centroid_x, centroid_y = rand_tile.centroid.x, rand_tile.centroid.y\n",
    "centroid_x *= 111.320 / 110.574 * math.cos(math.radians(averagey))\n",
    "new_centroid_x = centroid_x - minx\n",
    "new_centroid_x /= xrange\n",
    "new_centroid_x = np.rint(new_centroid_x * drawable_width) + padding\n",
    "new_centroid_y = centroid_y - miny\n",
    "new_centroid_y /= yrange\n",
    "new_centroid_y = np.rint(new_centroid_y * drawable_height) + padding\n",
    "print(new_centroid_x)\n",
    "print(new_centroid_y)\n",
    "drawer2.ellipse([(new_centroid_x-1, new_centroid_y-1), (new_centroid_x+1, new_centroid_y+1)], fill=(255, 0, 0, 255))\n",
    "\n",
    "\n",
    "back.paste(poly,mask=poly)\n",
    "back = back.transpose(Image.FLIP_TOP_BOTTOM)\n",
    "back.show()"
   ]
  },
  {
   "cell_type": "code",
   "execution_count": 49,
   "metadata": {},
   "outputs": [],
   "source": [
    "t1 = 6.66046142578125 * 111.320 / 110.574 * math.cos(math.radians(averagey))\n",
    "t2 = 6.660804748535156 * 111.320 / 110.574 * math.cos(math.radians(averagey))\n",
    "t1 = t1 - minx\n",
    "t2 = t2 - minx\n",
    "t1 /= xrange\n",
    "t2 /= xrange\n",
    "t1 = np.rint(t1 * drawable_width) + padding\n",
    "t2 = np.rint(t2 * drawable_width) + padding"
   ]
  },
  {
   "cell_type": "code",
   "execution_count": 50,
   "metadata": {},
   "outputs": [
    {
     "name": "stdout",
     "output_type": "stream",
     "text": [
      "276.0\n",
      "277.0\n"
     ]
    }
   ],
   "source": [
    "print(t1)\n",
    "print(t2)"
   ]
  },
  {
   "cell_type": "code",
   "execution_count": null,
   "metadata": {},
   "outputs": [],
   "source": []
  }
 ],
 "metadata": {
  "kernelspec": {
   "display_name": "Python 3",
   "language": "python",
   "name": "python3"
  },
  "language_info": {
   "codemirror_mode": {
    "name": "ipython",
    "version": 3
   },
   "file_extension": ".py",
   "mimetype": "text/x-python",
   "name": "python",
   "nbconvert_exporter": "python",
   "pygments_lexer": "ipython3",
   "version": "3.6.5"
  }
 },
 "nbformat": 4,
 "nbformat_minor": 2
}

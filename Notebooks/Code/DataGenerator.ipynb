{
 "cells": [
  {
   "cell_type": "code",
   "execution_count": 1,
   "metadata": {},
   "outputs": [
    {
     "data": {
      "text/plain": [
       "<module 'utils' from 'C:\\\\Users\\\\serge\\\\Documents\\\\EPFL\\\\Personal Interaction Studio\\\\Code\\\\utils.py'>"
      ]
     },
     "execution_count": 1,
     "metadata": {},
     "output_type": "execute_result"
    }
   ],
   "source": [
    "import mapboxfetcher\n",
    "from mapboxfetcher import MapBoxFetcher\n",
    "import utils\n",
    "import matplotlib.pyplot as plt\n",
    "import numpy as np\n",
    "import json\n",
    "import imageio\n",
    "from importlib import reload\n",
    "from pylab import rcParams\n",
    "import pickle\n",
    "from PIL import Image\n",
    "from random import shuffle\n",
    "rcParams['figure.figsize'] = 10, 10\n",
    "%matplotlib inline\n",
    "\n",
    "reload(mapboxfetcher)\n",
    "reload(utils)"
   ]
  },
  {
   "cell_type": "code",
   "execution_count": 21,
   "metadata": {},
   "outputs": [
    {
     "ename": "AttributeError",
     "evalue": "'dict' object has no attribute 'bounds'",
     "output_type": "error",
     "traceback": [
      "\u001b[1;31m---------------------------------------------------------------------------\u001b[0m",
      "\u001b[1;31mAttributeError\u001b[0m                            Traceback (most recent call last)",
      "\u001b[1;32m<ipython-input-21-c2dd247a2792>\u001b[0m in \u001b[0;36m<module>\u001b[1;34m()\u001b[0m\n\u001b[0;32m      7\u001b[0m \u001b[1;31m# city_polygon = utils.polygon_union(city['features'])\u001b[0m\u001b[1;33m\u001b[0m\u001b[1;33m\u001b[0m\u001b[0m\n\u001b[0;32m      8\u001b[0m \u001b[0mcity_polygon\u001b[0m \u001b[1;33m=\u001b[0m \u001b[0mcity\u001b[0m\u001b[1;33m[\u001b[0m\u001b[1;34m'features'\u001b[0m\u001b[1;33m]\u001b[0m\u001b[1;33m[\u001b[0m\u001b[1;36m0\u001b[0m\u001b[1;33m]\u001b[0m\u001b[1;33m\u001b[0m\u001b[0m\n\u001b[1;32m----> 9\u001b[1;33m \u001b[0mcity_bounds\u001b[0m \u001b[1;33m=\u001b[0m \u001b[0mcity_polygon\u001b[0m\u001b[1;33m.\u001b[0m\u001b[0mbounds\u001b[0m\u001b[1;33m\u001b[0m\u001b[0m\n\u001b[0m\u001b[0;32m     10\u001b[0m \u001b[1;33m\u001b[0m\u001b[0m\n\u001b[0;32m     11\u001b[0m \u001b[1;31m# transform_func = partial(\u001b[0m\u001b[1;33m\u001b[0m\u001b[1;33m\u001b[0m\u001b[0m\n",
      "\u001b[1;31mAttributeError\u001b[0m: 'dict' object has no attribute 'bounds'"
     ]
    }
   ],
   "source": [
    "from functools import partial\n",
    "import pyproj\n",
    "from shapely.ops import transform\n",
    "import shapely.ops as ops\n",
    "\n",
    "city = json.load(open('GeoJSON/lakeleman.geojson'))\n",
    "# city_polygon = utils.polygon_union(city['features'])\n",
    "city_polygon = city['features'][0]\n",
    "city_bounds = city_polygon.bounds\n",
    "\n",
    "# transform_func = partial(\n",
    "#     pyproj.transform,\n",
    "#     pyproj.Proj(init='EPSG:4326'),\n",
    "#     pyproj.Proj(\n",
    "#         proj='aea',\n",
    "#         lat1=city_polygon.bounds[1],\n",
    "#         lat2=city_polygon.bounds[3],\n",
    "#         lon1=city_polygon.bounds[0],\n",
    "#         lon2=city_polygon.bounds[2]\n",
    "#     )\n",
    "# )\n",
    "\n",
    "# transformed_polygon = ops.transform(transform_func, city_polygon)\n",
    "\n",
    "# print(transformed_polygon.area)"
   ]
  },
  {
   "cell_type": "code",
   "execution_count": 26,
   "metadata": {},
   "outputs": [],
   "source": [
    "\n",
    "\n",
    "# all_style_chunks = []\n",
    "# all_sat_chunks = []\n",
    "\n",
    "all_sat_imgs = []\n",
    "all_style_imgs = []\n",
    "\n",
    "fetcher = MapBoxFetcher()\n",
    "# fetcher  = MapBoxFetcher(style_id='cjfuwjonm2r8p2sny75hyaegi')\n",
    "zoom = 16 # https://wiki.openstreetmap.org/wiki/Zoom_levels 18 = 0.596m/pixel\n",
    "lat = city_bounds[3]\n",
    "lon = city_bounds[0]\n",
    "idx = 0\n",
    "while lat >= city_bounds[1]:\n",
    "    idx += 1\n",
    "    while lon <= city_bounds[2]:\n",
    "        if idx != 10:\n",
    "            lon = utils.num2deg(utils.deg2num(lat, lon, zoom)[0] + 1, utils.deg2num(lat, lon, zoom)[1], zoom)[1]\n",
    "            continue\n",
    "        numx, numy = utils.deg2num(lat, lon, zoom)\n",
    "        style_img = fetcher.style(lat, lon, zoom, hq=True)\n",
    "        sat_img = fetcher.satellite(lat, lon, zoom, hq=True)\n",
    "        \n",
    "        all_sat_imgs.append(sat_img)\n",
    "        all_style_imgs.append(style_img)\n",
    "        \n",
    "        ### CODE\n",
    "#         style_chunks = utils.split_image(style_img.bw_array(), chunk_size=2)\n",
    "#         style_chunks = utils.split_image(style_img.array(), chunk_size=512)\n",
    "#         sat_chunks = utils.split_image(sat_img.array(), chunk_size=2)\n",
    "#         all_style_chunks.extend(style_chunks)\n",
    "#         all_sat_chunks.extend(sat_chunks)\n",
    "#         plt.figure()\n",
    "#         plt.imshow(sat_chunks[0])\n",
    "#         plt.figure()\n",
    "#         plt.imshow(style_chunks[0], cmap='gray')\n",
    "        ### END CODE\n",
    "        \n",
    "#         lon = 999999; lat = -1\n",
    "        lon = utils.num2deg(utils.deg2num(lat, lon, zoom)[0] + 1, utils.deg2num(lat, lon, zoom)[1], zoom)[1]\n",
    "    lon = city_bounds[0]\n",
    "    lat = utils.num2deg(utils.deg2num(lat, lon, zoom)[0], utils.deg2num(lat, lon, zoom)[1] + 1, zoom)[0]\n",
    "    if idx == 10:\n",
    "        break"
   ]
  },
  {
   "cell_type": "code",
   "execution_count": 3,
   "metadata": {},
   "outputs": [],
   "source": [
    "all_style_imgs_arrays = []\n",
    "all_sat_imgs_arrays = []\n",
    "for style_img in all_style_imgs:\n",
    "    all_style_imgs_arrays.append(style_img.bw_array())\n",
    "for sat_img in all_sat_imgs:\n",
    "    all_sat_imgs_arrays.append(sat_img.array())\n",
    "pickle.dump({'style': all_style_imgs_arrays, 'sat': all_sat_imgs_arrays}, open('images-lausanne-zoom-{}.p'.format(zoom), 'wb'))"
   ]
  },
  {
   "cell_type": "code",
   "execution_count": 27,
   "metadata": {},
   "outputs": [],
   "source": [
    "saved = 0\n",
    "for sat_img in all_sat_imgs:\n",
    "#     if np.count_nonzero(all_style_imgs[i].bw_array()) > 0:\n",
    "    sat_img.save('TOLABELWATER/{}.jpeg'.format(saved))\n",
    "    saved += 1\n",
    "    if saved >= int(len(all_sat_imgs) * 1):\n",
    "        break"
   ]
  },
  {
   "cell_type": "code",
   "execution_count": 2,
   "metadata": {},
   "outputs": [],
   "source": [
    "data = pickle.load(open('images-lausanne-zoom-16.p', 'rb'))\n",
    "to_save_images = data['sat']\n",
    "img = Image.fromarray(to_save_images[651])\n",
    "img.save('TOLABEL16/{}.jpeg'.format(70))\n",
    "# shuffle(data['sat'])\n",
    "# saved = 0\n",
    "# for sat_img in to_save_images:\n",
    "#     img = Image.fromarray(sat_img)\n",
    "#     img.save('TOLABEL16/{}.jpeg'.format(saved))\n",
    "#     saved += 1\n",
    "#     if saved >= int(len(to_save_images) * 0.1):\n",
    "#         break"
   ]
  },
  {
   "cell_type": "code",
   "execution_count": null,
   "metadata": {},
   "outputs": [],
   "source": []
  }
 ],
 "metadata": {
  "kernelspec": {
   "display_name": "Python 3",
   "language": "python",
   "name": "python3"
  },
  "language_info": {
   "codemirror_mode": {
    "name": "ipython",
    "version": 3
   },
   "file_extension": ".py",
   "mimetype": "text/x-python",
   "name": "python",
   "nbconvert_exporter": "python",
   "pygments_lexer": "ipython3",
   "version": "3.6.4"
  }
 },
 "nbformat": 4,
 "nbformat_minor": 2
}

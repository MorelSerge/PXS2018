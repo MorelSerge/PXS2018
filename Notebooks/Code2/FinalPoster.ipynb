{
 "cells": [
  {
   "cell_type": "code",
   "execution_count": 116,
   "metadata": {},
   "outputs": [],
   "source": [
    "import matplotlib.pyplot as plt\n",
    "import pickle\n",
    "import json\n",
    "import numpy as np\n",
    "import math\n",
    "from shapely.geometry import shape, Polygon\n",
    "from PIL import Image, ImageDraw, ImageFont"
   ]
  },
  {
   "cell_type": "code",
   "execution_count": 91,
   "metadata": {},
   "outputs": [],
   "source": [
    "with open('vaud-cities.geojson', 'r', encoding='utf-8') as f:\n",
    "    geojson_vaud_cities = f.read()\n",
    "vaud_cities = []\n",
    "for city in json.loads(geojson_vaud_cities)['features']:\n",
    "    vaud_cities.append({\n",
    "        'name': city['properties']['name'],\n",
    "        'tree_sparsity': city['properties']['tree_sparsity'],\n",
    "        'tree_density': city['properties']['tree_density'],\n",
    "        'geometry': city['geometry']\n",
    "    })"
   ]
  },
  {
   "cell_type": "code",
   "execution_count": 92,
   "metadata": {},
   "outputs": [],
   "source": [
    "sparsities = []\n",
    "densities = []\n",
    "for city in vaud_cities:\n",
    "    sparsities.append(city['tree_sparsity'])\n",
    "    densities.append(city['tree_density'])\n",
    "    \n",
    "sparsities = np.array(sparsities)\n",
    "densities = np.array(densities)\n",
    "\n",
    "sparsities = (sparsities - np.min(sparsities)) / np.ptp(sparsities)\n",
    "densities = (densities - np.min(densities)) / np.ptp(densities)\n",
    "\n",
    "arg_sorted_sparsities = np.argsort(sparsities)[::-1] # Inverse\n",
    "arg_sorted_densities = np.argsort(densities)\n",
    "    \n",
    "reordered_sparsities = sparsities[arg_sorted_sparsities]\n",
    "reordered_censities = densities[arg_sorted_densities]"
   ]
  },
  {
   "cell_type": "code",
   "execution_count": 93,
   "metadata": {},
   "outputs": [],
   "source": [
    "def rgba_float_to_int(rgba):\n",
    "    return tuple(int(round(c * 255)) for c in rgba)\n",
    "def sparsity_to_color(sparsity):\n",
    "    cmap = plt.cm.Greys\n",
    "    return rgba_float_to_int(cmap(1-sparsity))\n",
    "def density_to_color(density):\n",
    "    cmap = plt.cm.Greens\n",
    "    return rgba_float_to_int(cmap(density))"
   ]
  },
  {
   "cell_type": "code",
   "execution_count": 94,
   "metadata": {},
   "outputs": [],
   "source": [
    "def get_y_range(geometry):\n",
    "    data = shape(geometry)\n",
    "    if isinstance(data, Polygon):\n",
    "        polygons = [data]\n",
    "    else:\n",
    "        polygons = list(data)\n",
    "    miny = np.inf\n",
    "    maxy = 0\n",
    "    all_ys = []\n",
    "    data_points = {}\n",
    "    for i, p in enumerate(polygons):\n",
    "        x, y = p.exterior.xy\n",
    "        data_points[i] = {}\n",
    "        data_points[i]['y'] = np.array(y)\n",
    "        cminy = data_points[i]['y'].min()\n",
    "        cmaxy = data_points[i]['y'].max()\n",
    "        if cminy < miny:\n",
    "            miny = cminy\n",
    "        if cmaxy > maxy:\n",
    "            maxy = cmaxy\n",
    "    return maxy - miny"
   ]
  },
  {
   "cell_type": "code",
   "execution_count": 101,
   "metadata": {},
   "outputs": [],
   "source": [
    "def create_city_figure(geometry, density, y_range_min, y_ptp):\n",
    "    data = shape(geometry)\n",
    "    if isinstance(data, Polygon):\n",
    "        polygons = [data]\n",
    "    else:\n",
    "        polygons = list(data)\n",
    "    minx = np.inf\n",
    "    miny = np.inf\n",
    "    maxx = 0\n",
    "    maxy = 0\n",
    "    all_ys = []\n",
    "    data_points = {}\n",
    "    for i, p in enumerate(polygons):\n",
    "        x, y = p.exterior.xy\n",
    "        all_ys.extend(y)\n",
    "        data_points[i] = {}\n",
    "        data_points[i]['x'] = np.array(x)\n",
    "        data_points[i]['y'] = np.array(y)\n",
    "        cminx = data_points[i]['x'].min()\n",
    "        cminy = data_points[i]['y'].min()\n",
    "        cmaxx = data_points[i]['x'].max()\n",
    "        cmaxy = data_points[i]['y'].max()\n",
    "        if cminx < minx:\n",
    "            minx = cminx\n",
    "        if cminy < miny:\n",
    "            miny = cminy\n",
    "        if cmaxx > maxx:\n",
    "            maxx = cmaxx\n",
    "        if cmaxy > maxy:\n",
    "            maxy = cmaxy\n",
    "    averagey = np.mean(all_ys)\n",
    "    xrange = maxx - minx # longitude\n",
    "    yrange = maxy - miny # latitude\n",
    "\n",
    "    xrange *= 111.320 / 110.574 * math.cos(math.radians(averagey))\n",
    "    for i in list(data_points.keys()):\n",
    "        data_points[i]['x'] *= 111.320 / 110.574 * math.cos(math.radians(averagey))\n",
    "        cminx = data_points[i]['x'].min()\n",
    "        if cminx < minx:\n",
    "            minx = cminx\n",
    "\n",
    "    aspect_ratio = xrange / yrange\n",
    "    padding = 10\n",
    "    normalized_y_range = (yrange - y_range_min) / y_range_ptp\n",
    "    drawable_height = int(round((512 / 1.2) * (normalized_y_range + 0.2)))\n",
    "    img_height = drawable_height + 2 * padding\n",
    "    drawable_width = int(round(aspect_ratio * drawable_height))\n",
    "    img_width = drawable_width + 2 * padding\n",
    "\n",
    "    poly = Image.new('RGBA', (img_width, img_height))\n",
    "    back = Image.new('RGBA', (img_width, img_height), (255, 255, 255, 0))\n",
    "    polygon_drawer = ImageDraw.Draw(poly)\n",
    "    for i in list(data_points.keys()):\n",
    "        x = data_points[i]['x']\n",
    "        y = data_points[i]['y']\n",
    "        x = x - minx\n",
    "        y = y - miny\n",
    "        x /= xrange\n",
    "        y /= yrange\n",
    "        x = np.rint(x * drawable_width) + padding\n",
    "        y = np.rint(y * drawable_height) + padding\n",
    "        polygon_drawer.polygon(list(zip(x, y)), fill=density_to_color(density), outline=(71, 82, 94, 255))\n",
    "    back.paste(poly, mask=poly)\n",
    "    back = back.transpose(Image.FLIP_TOP_BOTTOM)\n",
    "    return back"
   ]
  },
  {
   "cell_type": "code",
   "execution_count": 119,
   "metadata": {},
   "outputs": [],
   "source": [
    "def paste_img_on_canvas_with_color(img, size, color, name):\n",
    "    back = Image.new('RGBA', size, color)\n",
    "    top_left_corner = int(round((size[0] - img.size[0]) / 2)), int(round((size[1] - img.size[1]) / 2))\n",
    "    back.paste(img, top_left_corner, img)\n",
    "    drawer = ImageDraw.Draw(back)\n",
    "    drawer.text((10, 10), name, fill='#19a301')\n",
    "    return back"
   ]
  },
  {
   "cell_type": "code",
   "execution_count": 103,
   "metadata": {},
   "outputs": [],
   "source": [
    "y_ranges = []\n",
    "for idx, city in enumerate(vaud_cities):\n",
    "    y_range = get_y_range(city['geometry'])\n",
    "    y_ranges.append(y_range)"
   ]
  },
  {
   "cell_type": "code",
   "execution_count": 104,
   "metadata": {},
   "outputs": [],
   "source": [
    "y_range_min = np.min(y_ranges)\n",
    "y_range_ptp = np.ptp(y_ranges)"
   ]
  },
  {
   "cell_type": "code",
   "execution_count": 105,
   "metadata": {},
   "outputs": [],
   "source": [
    "for idx, city in enumerate(vaud_cities):\n",
    "    img = create_city_figure(city['geometry'], densities[idx], y_range_min, y_range_ptp)\n",
    "    img.save('FinalPoster/city-{}.png'.format(idx))"
   ]
  },
  {
   "cell_type": "code",
   "execution_count": 106,
   "metadata": {},
   "outputs": [
    {
     "name": "stdout",
     "output_type": "stream",
     "text": [
      "566\n",
      "532\n"
     ]
    }
   ],
   "source": [
    "widths = []\n",
    "heights = []\n",
    "for idx, city in enumerate(vaud_cities):\n",
    "    img = Image.open('FinalPoster/city-{}.png'.format(idx))\n",
    "    w, h = img.size\n",
    "    widths.append(w)\n",
    "    heights.append(h)\n",
    "widths = np.array(widths)\n",
    "heights = np.array(heights)\n",
    "print(np.max(widths))\n",
    "print(np.max(heights))"
   ]
  },
  {
   "cell_type": "code",
   "execution_count": 120,
   "metadata": {},
   "outputs": [],
   "source": [
    "for idx, city in enumerate(vaud_cities):\n",
    "    img = Image.open('FinalPoster/city-{}.png'.format(idx))\n",
    "    new_img = paste_img_on_canvas_with_color(img, (566, 566), sparsity_to_color(sparsities[idx]), city['name'])\n",
    "    new_img.save('FinalPoster/new-city-{}.png'.format(idx))"
   ]
  },
  {
   "cell_type": "code",
   "execution_count": 108,
   "metadata": {},
   "outputs": [],
   "source": [
    "x_dim = 28\n",
    "y_dim = 11\n",
    "idx_matrix = np.empty((y_dim, x_dim), dtype=np.int32)\n",
    "for i in range(y_dim):\n",
    "    c_arg_sparsities = arg_sorted_sparsities[i*x_dim:(i+1)*x_dim]\n",
    "    c_arg_densities = []\n",
    "    for arg_spars in c_arg_sparsities:\n",
    "        c_arg_densities.append(np.where(arg_sorted_densities == arg_spars)[0][0])\n",
    "    c_sorted_arg_densities = np.argsort(c_arg_densities)\n",
    "    for j in range(x_dim):\n",
    "        idx = c_arg_sparsities[c_sorted_arg_densities[j]]\n",
    "        idx_matrix[i,j] = idx"
   ]
  },
  {
   "cell_type": "code",
   "execution_count": 121,
   "metadata": {},
   "outputs": [],
   "source": [
    "# fig_size_a2 = (16.54, 23.39)\n",
    "fig_size_a2 = (23.39, 16.54)\n",
    "\n",
    "f, axarr = plt.subplots(y_dim, x_dim,\n",
    "                        sharex='all',\n",
    "                        sharey='all',\n",
    "                        figsize=fig_size_a2,\n",
    "                        tight_layout = {'pad': 0})\n",
    "f.text(0.01, 0.01, 'Increasing Density →', ha='left')\n",
    "f.text(0.01, 0.99, '← Decreasing Sparsity', va='top', rotation='vertical')\n",
    "for y in range(y_dim):\n",
    "    for x in range(x_dim):\n",
    "        img = Image.open('FinalPoster/new-city-{}.png'.format(idx_matrix[y,x]))\n",
    "        axarr[y,x].axis('off')\n",
    "        axarr[y,x].imshow(img)\n",
    "f.savefig('FinalPoster/output.pdf', dpi=300)\n",
    "plt.close(f)"
   ]
  },
  {
   "cell_type": "code",
   "execution_count": null,
   "metadata": {},
   "outputs": [],
   "source": []
  }
 ],
 "metadata": {
  "kernelspec": {
   "display_name": "Python 3",
   "language": "python",
   "name": "python3"
  },
  "language_info": {
   "codemirror_mode": {
    "name": "ipython",
    "version": 3
   },
   "file_extension": ".py",
   "mimetype": "text/x-python",
   "name": "python",
   "nbconvert_exporter": "python",
   "pygments_lexer": "ipython3",
   "version": "3.6.5"
  }
 },
 "nbformat": 4,
 "nbformat_minor": 2
}

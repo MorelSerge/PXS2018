{
 "cells": [
  {
   "cell_type": "code",
   "execution_count": 1,
   "metadata": {},
   "outputs": [],
   "source": [
    "import matplotlib.pyplot as plt\n",
    "import pickle\n",
    "import json\n",
    "import numpy as np\n",
    "import math\n",
    "from shapely.geometry import shape, Polygon\n",
    "from PIL import Image, ImageDraw, ImageFont"
   ]
  },
  {
   "cell_type": "code",
   "execution_count": 2,
   "metadata": {},
   "outputs": [],
   "source": [
    "with open('vaud-cities.json', 'r', encoding='utf-8') as f:\n",
    "    vaud_cities = json.load(f)"
   ]
  },
  {
   "cell_type": "code",
   "execution_count": 3,
   "metadata": {},
   "outputs": [],
   "source": [
    "def rgba_float_to_int(rgba):\n",
    "    return tuple(int(round(c * 255)) for c in rgba)\n",
    "def sparsity_to_color(sparsity):\n",
    "    cmap = plt.cm.Greys\n",
    "    return rgba_float_to_int(cmap(1-sparsity))\n",
    "def density_to_color(density):\n",
    "    cmap = plt.cm.Greens\n",
    "    return rgba_float_to_int(cmap(density))"
   ]
  },
  {
   "cell_type": "code",
   "execution_count": 4,
   "metadata": {},
   "outputs": [],
   "source": [
    "def get_y_range(geometry):\n",
    "    data = shape(geometry)\n",
    "    if isinstance(data, Polygon):\n",
    "        polygons = [data]\n",
    "    else:\n",
    "        polygons = list(data)\n",
    "    miny = np.inf\n",
    "    maxy = 0\n",
    "    all_ys = []\n",
    "    data_points = {}\n",
    "    for i, p in enumerate(polygons):\n",
    "        x, y = p.exterior.xy\n",
    "        data_points[i] = {}\n",
    "        data_points[i]['y'] = np.array(y)\n",
    "        cminy = data_points[i]['y'].min()\n",
    "        cmaxy = data_points[i]['y'].max()\n",
    "        if cminy < miny:\n",
    "            miny = cminy\n",
    "        if cmaxy > maxy:\n",
    "            maxy = cmaxy\n",
    "    return maxy - miny"
   ]
  },
  {
   "cell_type": "code",
   "execution_count": 19,
   "metadata": {},
   "outputs": [],
   "source": [
    "def create_city_figure(geometry, density, y_range_min, y_ptp, densities=None):\n",
    "    data = shape(geometry)\n",
    "    if isinstance(data, Polygon):\n",
    "        polygons = [data]\n",
    "    else:\n",
    "        polygons = list(data)\n",
    "    minx = np.inf\n",
    "    miny = np.inf\n",
    "    maxx = 0\n",
    "    maxy = 0\n",
    "    all_ys = []\n",
    "    data_points = {}\n",
    "    for i, p in enumerate(polygons):\n",
    "        x, y = p.exterior.xy\n",
    "        all_ys.extend(y)\n",
    "        data_points[i] = {}\n",
    "        data_points[i]['x'] = np.array(x)\n",
    "        data_points[i]['y'] = np.array(y)\n",
    "        cminx = data_points[i]['x'].min()\n",
    "        cminy = data_points[i]['y'].min()\n",
    "        cmaxx = data_points[i]['x'].max()\n",
    "        cmaxy = data_points[i]['y'].max()\n",
    "        if cminx < minx:\n",
    "            minx = cminx\n",
    "        if cminy < miny:\n",
    "            miny = cminy\n",
    "        if cmaxx > maxx:\n",
    "            maxx = cmaxx\n",
    "        if cmaxy > maxy:\n",
    "            maxy = cmaxy\n",
    "    averagey = np.mean(all_ys)\n",
    "    xrange = maxx - minx # longitude\n",
    "    yrange = maxy - miny # latitude\n",
    "\n",
    "    xrange *= 111.320 / 110.574 * math.cos(math.radians(averagey))\n",
    "    for i in list(data_points.keys()):\n",
    "        data_points[i]['x'] *= 111.320 / 110.574 * math.cos(math.radians(averagey))\n",
    "        cminx = data_points[i]['x'].min()\n",
    "        if cminx < minx:\n",
    "            minx = cminx\n",
    "\n",
    "    aspect_ratio = xrange / yrange\n",
    "    padding = 10\n",
    "    normalized_y_range = (yrange - y_range_min) / y_range_ptp\n",
    "    drawable_height = int(round((2000 / 1.2) * (normalized_y_range + 0.2)))\n",
    "    img_height = drawable_height + 2 * padding\n",
    "    drawable_width = int(round(aspect_ratio * drawable_height))\n",
    "    img_width = drawable_width + 2 * padding\n",
    "\n",
    "    poly = Image.new('RGBA', (img_width, img_height))\n",
    "    back = Image.new('RGBA', (img_width, img_height), (255, 255, 255, 0))\n",
    "    polygon_drawer = ImageDraw.Draw(poly)\n",
    "    for i in list(data_points.keys()):\n",
    "        x = data_points[i]['x']\n",
    "        y = data_points[i]['y']\n",
    "        x = x - minx\n",
    "        y = y - miny\n",
    "        x /= xrange\n",
    "        y /= yrange\n",
    "        x = np.rint(x * drawable_width) + padding\n",
    "        y = np.rint(y * drawable_height) + padding\n",
    "#         polygon_drawer.polygon(list(zip(x, y)), fill=(255, 255, 255, 0), outline=(71, 82, 94, 255))\n",
    "#         polygon_drawer.polygon(list(zip(x, y)), fill=(255, 255, 255, 0), outline=(255, 255, 255, 255))\n",
    "        points = list(zip(x, y))\n",
    "        polygon_drawer.line(points, fill=(255, 255, 255, 255), width=7)\n",
    "        for point in points:\n",
    "            polygon_drawer.ellipse((point[0] - 3, point[1] - 3, point[0] + 3, point[1] + 3), fill=(255, 255, 255, 255))\n",
    "        \n",
    "    if densities:\n",
    "        density_drawer = ImageDraw.Draw(back)\n",
    "        circle_size = 0.00034332275\n",
    "        circle_size *= 111.320 / 110.574 * math.cos(math.radians(averagey))\n",
    "        circle_size /= xrange\n",
    "        circle_size = np.rint(circle_size * drawable_width)\n",
    "        circle_radius = circle_size // 2 + 1\n",
    "        for density in densities:\n",
    "            x = density['x']\n",
    "            y = density['y']\n",
    "            d = density['value']\n",
    "            if d > 0:\n",
    "                x *= 111.320 / 110.574 * math.cos(math.radians(averagey))\n",
    "                x -= minx\n",
    "                y -= miny\n",
    "                x /= xrange\n",
    "                y /= yrange\n",
    "                x = np.rint(x * drawable_width) + padding\n",
    "                y = np.rint(y * drawable_height) + padding\n",
    "                density_drawer.ellipse([\n",
    "                    (x - circle_radius, y - circle_radius),\n",
    "                    (x + circle_radius, y + circle_radius)\n",
    "                ], fill=density_to_color(d))  \n",
    "    \n",
    "    back.paste(poly, mask=poly)\n",
    "    back = back.transpose(Image.FLIP_TOP_BOTTOM)\n",
    "    return back"
   ]
  },
  {
   "cell_type": "code",
   "execution_count": 20,
   "metadata": {},
   "outputs": [],
   "source": [
    "def paste_img_on_canvas_with_color(img, size, color, name):\n",
    "    back = Image.new('RGBA', size, color)\n",
    "    top_left_corner = int(round((size[0] - img.size[0]) / 2)), int(round((size[1] - img.size[1]) / 2))\n",
    "    back.paste(img, top_left_corner, img)\n",
    "    drawer = ImageDraw.Draw(back)\n",
    "    drawer.text((10, 10), name, fill='#19a301')\n",
    "    return back"
   ]
  },
  {
   "cell_type": "code",
   "execution_count": 21,
   "metadata": {},
   "outputs": [],
   "source": [
    "y_ranges = []\n",
    "for idx, city in enumerate(vaud_cities):\n",
    "    y_range = get_y_range(json.loads(city['geometry']))\n",
    "    y_ranges.append(y_range)"
   ]
  },
  {
   "cell_type": "code",
   "execution_count": 22,
   "metadata": {},
   "outputs": [],
   "source": [
    "y_range_min = np.min(y_ranges)\n",
    "y_range_ptp = np.ptp(y_ranges)"
   ]
  },
  {
   "cell_type": "code",
   "execution_count": 33,
   "metadata": {},
   "outputs": [],
   "source": [
    "sparsities = []\n",
    "densities = []\n",
    "for city in vaud_cities:\n",
    "    sparsities.append(city['tree_sparsity'])\n",
    "    densities.append(city['tree_density'])\n",
    "    \n",
    "sparsities = np.array(sparsities)\n",
    "densities = np.array(densities)\n",
    "\n",
    "sparsities = (sparsities - np.min(sparsities)) / np.ptp(sparsities)\n",
    "densities = (densities - np.min(densities)) / np.ptp(densities)"
   ]
  },
  {
   "cell_type": "code",
   "execution_count": 34,
   "metadata": {},
   "outputs": [],
   "source": [
    "for idx, city in enumerate(vaud_cities):\n",
    "    img = create_city_figure(json.loads(city['geometry']), densities[idx], y_range_min, y_range_ptp, city['data'])\n",
    "    img.save('FinalPoster/city-{}.png'.format(idx))"
   ]
  },
  {
   "cell_type": "code",
   "execution_count": 35,
   "metadata": {},
   "outputs": [
    {
     "name": "stdout",
     "output_type": "stream",
     "text": [
      "2153\n",
      "2020\n"
     ]
    }
   ],
   "source": [
    "widths = []\n",
    "heights = []\n",
    "for idx, city in enumerate(vaud_cities):\n",
    "    img = Image.open('FinalPoster/city-{}.png'.format(idx))\n",
    "    w, h = img.size\n",
    "    widths.append(w)\n",
    "    heights.append(h)\n",
    "widths = np.array(widths)\n",
    "heights = np.array(heights)\n",
    "print(np.max(widths))\n",
    "print(np.max(heights))"
   ]
  },
  {
   "cell_type": "code",
   "execution_count": 36,
   "metadata": {},
   "outputs": [],
   "source": [
    "for idx, city in enumerate(vaud_cities):\n",
    "    img = Image.open('FinalPoster/city-{}.png'.format(idx))\n",
    "    new_img = paste_img_on_canvas_with_color(img, (2153, 2153), (0, 0, 0, 255), city['name'])\n",
    "    new_img.save('FinalPoster/new-city-{}.png'.format(idx))"
   ]
  },
  {
   "cell_type": "code",
   "execution_count": 37,
   "metadata": {},
   "outputs": [],
   "source": [
    "shrinked_choices = np.random.choice(range(len(vaud_cities)), len(vaud_cities), replace=False)\n",
    "vaud_cities_shrinked = np.array(vaud_cities)[shrinked_choices]"
   ]
  },
  {
   "cell_type": "code",
   "execution_count": 38,
   "metadata": {},
   "outputs": [],
   "source": [
    "sparsities = []\n",
    "densities = []\n",
    "for city in vaud_cities_shrinked:\n",
    "    sparsities.append(city['tree_sparsity'])\n",
    "    densities.append(city['tree_density'])\n",
    "    \n",
    "sparsities = np.array(sparsities)\n",
    "densities = np.array(densities)\n",
    "\n",
    "sparsities = (sparsities - np.min(sparsities)) / np.ptp(sparsities)\n",
    "densities = (densities - np.min(densities)) / np.ptp(densities)\n",
    "\n",
    "arg_sorted_sparsities = np.argsort(sparsities)[::-1] # Inverse\n",
    "arg_sorted_densities = np.argsort(densities)\n",
    "    \n",
    "reordered_sparsities = sparsities[arg_sorted_sparsities]\n",
    "reordered_censities = densities[arg_sorted_densities]"
   ]
  },
  {
   "cell_type": "code",
   "execution_count": 39,
   "metadata": {},
   "outputs": [],
   "source": [
    "x_dim = 28\n",
    "y_dim = 11\n",
    "# x_dim = 10\n",
    "# y_dim = 13\n",
    "idx_matrix = np.empty((y_dim, x_dim), dtype=np.int32)\n",
    "for i in range(y_dim):\n",
    "    c_arg_sparsities = arg_sorted_sparsities[i*x_dim:(i+1)*x_dim]\n",
    "    c_arg_densities = []\n",
    "    for arg_spars in c_arg_sparsities:\n",
    "        c_arg_densities.append(np.where(arg_sorted_densities == arg_spars)[0][0])\n",
    "    c_sorted_arg_densities = np.argsort(c_arg_densities)\n",
    "    for j in range(x_dim):\n",
    "        idx = c_arg_sparsities[c_sorted_arg_densities[j]]\n",
    "        idx_matrix[i,j] = idx\n",
    "# for i in range(y_dim):\n",
    "#     c_arg_densities = arg_sorted_densities[i*x_dim:(i+1)*x_dim]\n",
    "#     c_arg_sparsities = []\n",
    "#     for arg_dens in c_arg_densities:\n",
    "#         c_arg_sparsities.append(np.where(arg_sorted_sparsities == arg_dens)[0][0])\n",
    "#     c_sorted_arg_sparsities = np.argsort(c_arg_sparsities)\n",
    "#     for j in range(x_dim):\n",
    "#         idx = c_arg_densities[c_sorted_arg_sparsities[j]]\n",
    "#         idx_matrix[i,j] = idx"
   ]
  },
  {
   "cell_type": "code",
   "execution_count": 43,
   "metadata": {},
   "outputs": [],
   "source": [
    "# fig_size_a2 = (16.54, 23.39)\n",
    "# fig_size_a2 = (23.39, 16.54)\n",
    "fig_size_a2 = (16.54, 23.39)\n",
    "\n",
    "f, axarr = plt.subplots(y_dim, 9,\n",
    "                        sharex='all',\n",
    "                        sharey='all',\n",
    "                        figsize=fig_size_a2,\n",
    "                        tight_layout = {'pad': 0})\n",
    "plt.subplots_adjust(left=None, bottom=None, right=None, top=None, wspace=None, hspace=None)\n",
    "# f.text(0.01, 0.005, 'Decreasing Sparsity →', ha='left')\n",
    "# f.text(0.01, 0.99, '← Increasing Density', va='top', rotation='vertical')\n",
    "f.text(0.01, 0.005, 'Increasing Density →', ha='left')\n",
    "f.text(0.005, 0.99, '← Decreasing Sparsity', va='top', rotation='vertical')\n",
    "for y in range(y_dim):\n",
    "    for x in range(2 * x_dim // 3 + 1, 3 * x_dim // 3):\n",
    "#     for x in range(x_dim // 3, 2 * x_dim // 3 + 1):\n",
    "#     for x in range(x_dim // 3):\n",
    "#     for x in range(x_dim):\n",
    "        img = Image.open('FinalPoster/new-city-{}.png'.format(shrinked_choices[idx_matrix[y,x]]))\n",
    "        axarr[y,x - 2 * x_dim // 3 - 1].axis('off')\n",
    "        axarr[y,x - 2 * x_dim // 3 - 1].imshow(img)\n",
    "#         axarr[y,x - x_dim // 3].axis('off')\n",
    "#         axarr[y,x - x_dim // 3].imshow(img)\n",
    "#         axarr[y,x].axis('off')\n",
    "#         axarr[y,x].imshow(img)\n",
    "f.savefig('FinalPoster/output3.pdf', dpi=600)\n",
    "plt.close(f)"
   ]
  },
  {
   "cell_type": "code",
   "execution_count": null,
   "metadata": {},
   "outputs": [],
   "source": []
  },
  {
   "cell_type": "code",
   "execution_count": null,
   "metadata": {},
   "outputs": [],
   "source": []
  }
 ],
 "metadata": {
  "kernelspec": {
   "display_name": "Python 3",
   "language": "python",
   "name": "python3"
  },
  "language_info": {
   "codemirror_mode": {
    "name": "ipython",
    "version": 3
   },
   "file_extension": ".py",
   "mimetype": "text/x-python",
   "name": "python",
   "nbconvert_exporter": "python",
   "pygments_lexer": "ipython3",
   "version": "3.6.5"
  }
 },
 "nbformat": 4,
 "nbformat_minor": 2
}
